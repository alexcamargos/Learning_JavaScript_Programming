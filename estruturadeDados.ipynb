{
 "cells": [
  {
   "cell_type": "markdown",
   "metadata": {},
   "source": [
    "# Estrutura de dados do Javascript\n",
    "\n",
    "Todas as linguagens de programação têm sua própria estrutura de dados embutida, mas essa estrutura frequentemente difere uma da outra.\n"
   ]
  },
  {
   "cell_type": "code",
   "execution_count": 22,
   "metadata": {},
   "outputs": [
    {
     "data": {
      "text/plain": [
       "[Function: log]"
      ]
     },
     "execution_count": 22,
     "metadata": {},
     "output_type": "execute_result"
    }
   ],
   "source": [
    "print = console.log;\n"
   ]
  },
  {
   "cell_type": "markdown",
   "metadata": {},
   "source": [
    "## Tipagem Dinâmica\n",
    "\n",
    "JavaScript é uma linguagem de tipagem dinâmica. Isso significa que você não necessita declarar o tipo de uma variável antes de sua atribuição. O tipo será automaticamente determinado quando o programa for processado. Isso também significa que você pode reatribuir uma mesma variável com um tipo diferente:\n"
   ]
  },
  {
   "cell_type": "code",
   "execution_count": 23,
   "metadata": {},
   "outputs": [
    {
     "data": {
      "text/plain": [
       "'number'"
      ]
     },
     "execution_count": 23,
     "metadata": {},
     "output_type": "execute_result"
    }
   ],
   "source": [
    "var foo = 42; // foo é um Number agora\n",
    "typeof foo;\n"
   ]
  },
  {
   "cell_type": "code",
   "execution_count": 24,
   "metadata": {},
   "outputs": [
    {
     "name": "stdout",
     "output_type": "stream",
     "text": [
      "true\n"
     ]
    }
   ],
   "source": [
    "foo = \"bar\"; // foo é um String agora\n",
    "foo = true; // foo é um Boolean agora\n",
    "print(foo);\n"
   ]
  },
  {
   "cell_type": "markdown",
   "metadata": {},
   "source": [
    "## Tipos de Dados\n",
    "\n",
    "A última versão ECMAScript define sete tipos de dados:\n",
    "\n",
    "Sete tipos de dados são:\n",
    "\n",
    "- Primitives:\n",
    "  - Boolean\n",
    "  - Null\n",
    "  - Undefined\n",
    "  - Number\n",
    "  - BigInt\n",
    "  - String\n",
    "  - Symbol\n",
    "- Object\n"
   ]
  },
  {
   "cell_type": "markdown",
   "metadata": {},
   "source": [
    "### Valores Primitivos\n",
    "\n",
    "Todos os tipos, com a exceção de objetos, definem valores imutáveis (valores que são incapazes de mudar). Por exemplo e diferentemente da linguagem C, Strings são imutáveis. Nós nos referimos a valores desse tipo como \"valores primitivos\".\n"
   ]
  },
  {
   "cell_type": "markdown",
   "metadata": {},
   "source": [
    "### Tipo \"Boolean\"\n",
    "\n",
    "Boolean representa uma entidade lógica e pode ter dois valores: _verdadeiro_ (true) ou _falso_ (false).\n"
   ]
  },
  {
   "cell_type": "markdown",
   "metadata": {},
   "source": [
    "### Tipo \"Null\"\n",
    "\n",
    "O tipo Null tem exatamente um valor: null (nulo).\n"
   ]
  },
  {
   "cell_type": "markdown",
   "metadata": {},
   "source": [
    "## Tipo \"Undefined\"\n",
    "\n",
    "Uma variável que não foi atribuída a um valor específico, assume o valor undefined (indefinido).\n"
   ]
  },
  {
   "cell_type": "markdown",
   "metadata": {},
   "source": [
    "### Tipo \"Number\"\n",
    "\n",
    "De acordo com os padrões ECMAScript, existe somente um tipo numérico. O número entre -(253 -1) e (253 -1).\n",
    "Não existe um tipo específico para inteiros. Além de poderem representar números de ponto-flutuante, o tipo number possui três valores simbólicos:\n",
    "\n",
    "- +Infinity,\n",
    "- -Infinity, e\n",
    "- NaN (não numérico).\n"
   ]
  },
  {
   "cell_type": "markdown",
   "metadata": {},
   "source": [
    "Para verificar o maior ou o menor valor disponível dentro de +/-Infinity, você pode usar as constantes `Number.MAX_VALUE` ou `Number.MIN_VALUE`, e a partir do ECMAScript 6, você também consegue verificar se um número está dentro da região de um ponto flutuante do tipo double-precision, usando `Number.isSafeInteger()`, como também `Number.MAX_SAFE_INTEGER`, e `Number.MIN_SAFE_INTEGER`. Fora dessa região, números inteiros em JavaScript não são mais precisos e serão uma aproximação de um número de ponto flutuante do tipo double-precision.\n"
   ]
  },
  {
   "cell_type": "markdown",
   "metadata": {},
   "source": [
    "O tipo number possui apenas um inteiro que tem duas representações: 0 é representado como -0 ou +0. (\"0\" é um pseudônimo para +0). Na prática, isso não gera grandes impactos. Por exemplo `+0 === -0` resulta em true. Entretanto, você pode notar a diferença quando realiza uma divisão por 0:\n"
   ]
  },
  {
   "cell_type": "code",
   "execution_count": 25,
   "metadata": {},
   "outputs": [
    {
     "name": "stdout",
     "output_type": "stream",
     "text": [
      "Infinity\n",
      "-Infinity\n"
     ]
    }
   ],
   "source": [
    "print(42 / +0);\n",
    "print(42 / -0);\n"
   ]
  },
  {
   "cell_type": "markdown",
   "metadata": {},
   "source": [
    "### Tipo \"String\"\n",
    "\n",
    "O tipo String em JavaScript é usado para representar dados textuais. Isto é um conjunto de \"elementos\" de valores de 16-bits unsigned integer. Cada elemento ocupa uma posição na string. O primeiro elemento está no índice 0, o próximo no índice 1, e assim por diante. O comprimento de uma string é o número de elementos nela.\n",
    "\n",
    "Diferente de linguagens como C, strings em JavaScript são imutáveis. Isto significa que: uma vez criada a string, não é possível modificá-la. Entretanto, ainda é possível criar outra string baseada em um operador na string original.\n",
    "\n",
    "É aconselhável usar strings para dados textuais. Quando representar dados complexos, analise as strings e utilize abstrações apropriadas.\n"
   ]
  },
  {
   "cell_type": "markdown",
   "metadata": {},
   "source": [
    "### Symbol type\n",
    "\n",
    "Symbols são novos no JavaScript ECMAScript edição 6. Um Symbol é um valor primitivo único e imutável e pode ser usado como chave de uma propriedade de Object; em algumas linguagens de programação, Symbols são chamados de atoms (átomos). Você também pode compará-los à enumerações nomeadas (enum) em C.\n"
   ]
  },
  {
   "cell_type": "markdown",
   "metadata": {},
   "source": [
    "### Objetos\n",
    "\n",
    "Na ciência da computação, um objeto é um valor na memória que pode ser possivelmente referenciado por um identifier. No JavaScript, objetos podem ser vistos como uma coleção de propriedades.\n"
   ]
  },
  {
   "cell_type": "markdown",
   "metadata": {},
   "source": [
    "#### Identificador (Identifier)\n",
    "\n",
    "Uma sequência de caracteres no código, que identifica uma variável, função, ou propriedade.\n",
    "\n",
    "Em JavaScript, identificadores podem conter somente caracteres alfanuméricos (ou \"$\" ou \"\\_\"), e não podem iniciar com um dígito. Um identificador difere de uma string no sentido de que uma string é informação, enquanto um identificador é parte do código. Em JavaScript, não existe uma forma de converter identificadores para strings, mas as vezes é possível converter strings em identificadores.\n"
   ]
  },
  {
   "cell_type": "markdown",
   "metadata": {},
   "source": [
    "## Datas\n",
    "\n",
    "Quando reprensentando datas, a melhor escolha é utilizar o Date utility já construído internamente no JavaScript.\n"
   ]
  },
  {
   "cell_type": "markdown",
   "metadata": {},
   "source": [
    "Cria uma instância JavaScript de Date que representa um único momento no tempo. Objetos Date são baseados no valor de tempo que é o número de milisegundos desde 1º de Janeiro de 1970 (UTC).\n"
   ]
  },
  {
   "cell_type": "code",
   "execution_count": 26,
   "metadata": {},
   "outputs": [
    {
     "name": "stdout",
     "output_type": "stream",
     "text": [
      "2022-10-20T15:28:37.350Z\n",
      "1985-10-05T12:30:00.000Z\n"
     ]
    }
   ],
   "source": [
    "var date = new Date();\n",
    "print(date);\n",
    "\n",
    "var date2 = new Date(1985, 9, 5, 9, 30, 0, 0);\n",
    "print(date2);\n"
   ]
  },
  {
   "cell_type": "markdown",
   "metadata": {},
   "source": [
    "## Array\n",
    "\n",
    "Arrays são objetos semelhantes a listas que vêm com uma série de métodos embutidos para realizar operações de travessia e mutação. Nem o tamanho de um array JavaScript nem os tipos de elementos são fixos\n"
   ]
  },
  {
   "cell_type": "markdown",
   "metadata": {},
   "source": [
    "Criando um Array\n"
   ]
  },
  {
   "cell_type": "code",
   "execution_count": 27,
   "metadata": {},
   "outputs": [
    {
     "name": "stdout",
     "output_type": "stream",
     "text": [
      "2\n"
     ]
    }
   ],
   "source": [
    "var frutas = [\"Maçã\", \"Banana\"];\n",
    "print(frutas.length); // 2\n"
   ]
  },
  {
   "cell_type": "markdown",
   "metadata": {},
   "source": [
    "Acessar um item (index) do Array\n"
   ]
  },
  {
   "cell_type": "code",
   "execution_count": 28,
   "metadata": {},
   "outputs": [
    {
     "name": "stdout",
     "output_type": "stream",
     "text": [
      "Maçã\n",
      "Banana\n"
     ]
    }
   ],
   "source": [
    "var primeiro = frutas[0]; // Maçã\n",
    "print(primeiro);\n",
    "\n",
    "var ultimo = frutas[frutas.length - 1]; // Banana\n",
    "print(ultimo);\n"
   ]
  },
  {
   "cell_type": "markdown",
   "metadata": {},
   "source": [
    "Iterar um Array\n"
   ]
  },
  {
   "cell_type": "code",
   "execution_count": 29,
   "metadata": {},
   "outputs": [
    {
     "name": "stdout",
     "output_type": "stream",
     "text": [
      "Maçã 0\n",
      "Banana 1\n"
     ]
    }
   ],
   "source": [
    "frutas.forEach(function (item, indice) {\n",
    "  print(item, indice);\n",
    "});\n",
    "// Maçã 0\n",
    "// Banana 1\n"
   ]
  },
  {
   "cell_type": "markdown",
   "metadata": {},
   "source": [
    "## Coleções chaveadas: Maps, Sets, WeakMaps, WeakSets\n",
    "\n",
    "Estas estruturas de dados pegam referências de objetos como chaves e foram introduzidas no ECMAScript Edition 6. Set e WeakSet representa um conjunto de objetos, enquanto Map e WeakMap associa um valor a um objeto. A diferença entre Maps e WeakMaps é que no primeiro, as chaves dos objetos podem ser enumeradas. Isso permite otimização de garbage collection no segundo.\n"
   ]
  },
  {
   "cell_type": "markdown",
   "metadata": {},
   "source": [
    "### SET\n",
    "\n",
    "Objetos Set são coleções de valores nas quais é possível iterar os elementos em ordem de inserção. Um valor no Set pode ocorrer apenas uma vez; ele é único na coleção do Set.\n"
   ]
  },
  {
   "cell_type": "code",
   "execution_count": 30,
   "metadata": {},
   "outputs": [
    {
     "name": "stdout",
     "output_type": "stream",
     "text": [
      "Set { 1, 5 }\n",
      "Set { 1, 5, 'texto', { a: 1, b: 2 }, { a: 1, b: 2 } }\n",
      "true\n",
      "false\n",
      "true\n",
      "true\n",
      "true\n",
      "true\n",
      "5\n",
      "Set { 1, 'texto', { a: 1, b: 2 }, { a: 1, b: 2 } }\n",
      "4\n",
      "Set { 1, 'texto', { a: 1, b: 2 }, { a: 1, b: 2 } }\n"
     ]
    }
   ],
   "source": [
    "var meuSet = new Set();\n",
    "var o = { a: 1, b: 2 };\n",
    "\n",
    "meuSet.add(1); // meuSet [1]\n",
    "meuSet.add(5); // meuSet [1, 5]\n",
    "meuSet.add(5); // 5 já foi adicionando, portanto, meuSet [1, 5]\n",
    "print(meuSet);\n",
    "\n",
    "meuSet.add(\"texto\");\n",
    "meuSet.add(o);\n",
    "meuSet.add({ a: 1, b: 2 }); //  o está referenciando outro objeto\n",
    "print(meuSet);\n",
    "\n",
    "print(meuSet.has(1)); // true\n",
    "print(meuSet.has(3)); // false, 3 não foi adicionado ao set (Conjunto)\n",
    "print(meuSet.has(5)); // true\n",
    "print(meuSet.has(Math.sqrt(25))); // true\n",
    "print(meuSet.has(\"Texto\".toLowerCase())); // true\n",
    "print(meuSet.has(o)); // true\n",
    "\n",
    "print(meuSet.size); // 5\n",
    "\n",
    "meuSet.delete(5); // remove 5 do set\n",
    "meuSet.has(5); // false, 5 já foi removido\n",
    "print(meuSet);\n",
    "print(meuSet.size); // 4, nós simplesmente removemos um valor\n",
    "\n",
    "print(meuSet); // Set { 1, 'texto', { a: 1, b: 2 }, { a: 1, b: 2 } }\n"
   ]
  },
  {
   "cell_type": "markdown",
   "metadata": {},
   "source": [
    "### WeakSet\n",
    "\n",
    "Objetos WeakSet são coleções de objetos. Um objeto no WeakSet pode ocorrer uma vez; é único na coleção do WeakSet.\n",
    "\n",
    "As principais diferenças para o objeto Set são:\n",
    "\n",
    "- Em contraste ao Sets, WeakSets são coleções apenas de objetos e não de valores arbitrários de qualquer tipo.\n",
    "- O WeakSet é fraco. Referências aos objetos nas coleções são mantidas \"fracamente\". Se não há outra referência para um objeto mantido na WeakSet, eles pode ser coletados pelo gerenciamento de memória (garbage collection).\n"
   ]
  },
  {
   "cell_type": "code",
   "execution_count": 31,
   "metadata": {},
   "outputs": [
    {
     "ename": "SyntaxError",
     "evalue": "Identifier 'weakSet' has already been declared",
     "execution_count": 31,
     "output_type": "error",
     "traceback": [
      "evalmachine.<anonymous>:1",
      "const weakSet = new WeakSet();",
      "^",
      "",
      "SyntaxError: Identifier 'weakSet' has already been declared",
      "    at evalmachine.<anonymous>:1:1",
      "    at Script.runInThisContext (vm.js:120:18)",
      "    at Object.runInThisContext (vm.js:309:38)",
      "    at run ([eval]:1020:15)",
      "    at onRunRequest ([eval]:864:18)",
      "    at onMessage ([eval]:828:13)",
      "    at process.emit (events.js:314:20)",
      "    at emit (internal/child_process.js:877:12)",
      "    at processTicksAndRejections (internal/process/task_queues.js:85:21)"
     ]
    }
   ],
   "source": [
    "const weakSet = new WeakSet();\n",
    "const foobar = {};\n",
    "const barfoo = {};\n",
    "\n",
    "weakSet.add(foobar);\n",
    "weakSet.add(barfoo);\n",
    "print(weakSet);\n",
    "\n",
    "print(weakSet.has(foobar)); // true\n",
    "print(weakSet.has(barfoo)); // true\n",
    "\n",
    "weakSet.delete(foobar); // removes foo from the set\n",
    "print(weakSet);\n",
    "weakSet.has(foobar); // false, foo has been removed\n",
    "weakSet.has(barfoo); // true, bar is retained\n"
   ]
  },
  {
   "cell_type": "markdown",
   "metadata": {},
   "source": [
    "## JSON - JavaScript Object Notation\n",
    "\n",
    "JSON (Notação de Objetos JavaScript) e um formato de dados permutável e capaz de representar números, booleanos, textos, vazios, e listas (sequência ordenada de valores) e objetos (mapeamento de valores de texto) composto por estes valores (ou por outras listas e objetos). Ele não representa nativamente tipos complexos de dados como funções, expressões regulares, datas, e muito mais.\n"
   ]
  },
  {
   "cell_type": "code",
   "execution_count": 34,
   "metadata": {},
   "outputs": [
    {
     "name": "stdout",
     "output_type": "stream",
     "text": [
      "{\n",
      "  employees: [\n",
      "    { firstName: 'John', lastName: 'Doe' },\n",
      "    { firstName: 'Anna', lastName: 'Smith' },\n",
      "    { firstName: 'Peter', lastName: 'Jones' }\n",
      "  ]\n",
      "}\n"
     ]
    }
   ],
   "source": [
    "var json = {\n",
    "  employees: [\n",
    "    { firstName: \"John\", lastName: \"Doe\" },\n",
    "    { firstName: \"Anna\", lastName: \"Smith\" },\n",
    "    { firstName: \"Peter\", lastName: \"Jones\" },\n",
    "  ],\n",
    "};\n",
    "\n",
    "print(json)\n"
   ]
  }
 ],
 "metadata": {
  "kernelspec": {
   "display_name": "JavaScript (Node.js)",
   "language": "javascript",
   "name": "javascript"
  },
  "language_info": {
   "file_extension": ".js",
   "mimetype": "application/javascript",
   "name": "javascript",
   "version": "12.22.9"
  },
  "vscode": {
   "interpreter": {
    "hash": "916dbcbb3f70747c44a77c7bcd40155683ae19c65e1c03b4aa3499c5328201f1"
   }
  }
 },
 "nbformat": 4,
 "nbformat_minor": 4
}
