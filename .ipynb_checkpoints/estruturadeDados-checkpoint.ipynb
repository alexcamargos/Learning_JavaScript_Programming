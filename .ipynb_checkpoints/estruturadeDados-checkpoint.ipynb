{
 "cells": [
  {
   "cell_type": "markdown",
   "metadata": {},
   "source": [
    "# Estrutura de dados do Javascript\n",
    "\n",
    "Todas as linguagens de programação têm sua própria estrutura de dados embutida, mas essa estrutura frequentemente difere uma da outra."
   ]
  },
  {
   "cell_type": "code",
   "execution_count": null,
   "metadata": {},
   "outputs": [
    {
     "ename": "",
     "evalue": "",
     "output_type": "error",
     "traceback": [
      "\u001b[1;31mFailed to start the Kernel. \n",
      "\u001b[1;31m/usr/local/lib/node_modules/ijavascript/node_modules/node-gyp-build/index.js:60\n",
      "\u001b[1;31m  throw new Error('No native build was found for ' + target + '\\n    loaded from: ' + dir + '\\n')\n",
      "\u001b[1;31m  ^\n",
      "\u001b[1;31m\n",
      "\u001b[1;31mError: No native build was found for platform=linux arch=x64 runtime=electron abi=72 uv=1 libc=glibc node=12.22.9\n",
      "\u001b[1;31m    loaded from: /usr/local/lib/node_modules/ijavascript/node_modules/zeromq\n",
      "\u001b[1;31m\n",
      "\u001b[1;31m    at Function.load.path (/usr/local/lib/node_modules/ijavascript/node_modules/node-gyp-build/index.js:60:9)\n",
      "\u001b[1;31m    at load (/usr/local/lib/node_modules/ijavascript/node_modules/node-gyp-build/index.js:22:30)\n",
      "\u001b[1;31m    at Object.<anonymous> (/usr/local/lib/node_modules/ijavascript/node_modules/zeromq/binding.js:1:43)\n",
      "\u001b[1;31m    at Module._compile (internal/modules/cjs/loader.js:999:30)\n",
      "\u001b[1;31m    at Object.Module._extensions..js (internal/modules/cjs/loader.js:1027:10)\n",
      "\u001b[1;31m    at Module.load (internal/modules/cjs/loader.js:863:32)\n",
      "\u001b[1;31m    at Function.Module._load (internal/modules/cjs/loader.js:708:14)\n",
      "\u001b[1;31m    at Module.require (internal/modules/cjs/loader.js:887:19)\n",
      "\u001b[1;31m    at require (internal/modules/cjs/helpers.js:74:18)\n",
      "\u001b[1;31m    at Object.<anonymous> (/usr/local/lib/node_modules/ijavascript/node_modules/zeromq/lib/index.js:6:11). \n",
      "\u001b[1;31mView Jupyter <a href='command:jupyter.viewOutput'>log</a> for further details."
     ]
    }
   ],
   "source": [
    "print = console.log;"
   ]
  },
  {
   "cell_type": "markdown",
   "metadata": {},
   "source": [
    "## Tipagem Dinâmica\n",
    "\n",
    "JavaScript é uma linguagem de tipagem dinâmica. Isso significa que você não necessita declarar o tipo de uma variável antes de sua atribuição. O tipo será automaticamente determinado quando o programa for processado. Isso também significa que você pode reatribuir uma mesma variável com um tipo diferente:"
   ]
  },
  {
   "cell_type": "code",
   "execution_count": 4,
   "metadata": {},
   "outputs": [
    {
     "ename": "SyntaxError",
     "evalue": "invalid syntax (3288603436.py, line 1)",
     "output_type": "error",
     "traceback": [
      "\u001b[0;36m  Cell \u001b[0;32mIn [4], line 1\u001b[0;36m\u001b[0m\n\u001b[0;31m    var foo = 42;   // foo é um Number agora\u001b[0m\n\u001b[0m        ^\u001b[0m\n\u001b[0;31mSyntaxError\u001b[0m\u001b[0;31m:\u001b[0m invalid syntax\n"
     ]
    }
   ],
   "source": [
    "var foo = 42;   // foo é um Number agora\n",
    "typeof foo"
   ]
  },
  {
   "cell_type": "code",
   "execution_count": 3,
   "metadata": {},
   "outputs": [
    {
     "ename": "SyntaxError",
     "evalue": "invalid syntax (795649409.py, line 1)",
     "output_type": "error",
     "traceback": [
      "\u001b[0;36m  Cell \u001b[0;32mIn [3], line 1\u001b[0;36m\u001b[0m\n\u001b[0;31m    var foo = 42;   // foo é um Number agora\u001b[0m\n\u001b[0m        ^\u001b[0m\n\u001b[0;31mSyntaxError\u001b[0m\u001b[0;31m:\u001b[0m invalid syntax\n"
     ]
    }
   ],
   "source": [
    "var foo = 42;   // foo é um Number agora\n",
    "foo = \"bar\";    // foo é um String agora\n",
    "foo = true;     // foo é um Boolean agora\n",
    "print(foo);"
   ]
  },
  {
   "cell_type": "markdown",
   "metadata": {},
   "source": [
    "## Tipos de Dados\n",
    "A última versão ECMAScript define sete tipos de dados:\n",
    "\n",
    "Sete tipos de dados são:\n",
    "- Primitives:\n",
    "    - Boolean\n",
    "    - Null\n",
    "    - Undefined\n",
    "    - Number\n",
    "    - BigInt\n",
    "    - String\n",
    "    - Symbol\n",
    "- Object"
   ]
  },
  {
   "cell_type": "markdown",
   "metadata": {},
   "source": [
    "### Valores Primitivos\n",
    "Todos os tipos, com a exceção de objetos, definem valores imutáveis (valores que são incapazes de mudar). Por exemplo e diferentemente da linguagem C, Strings são imutáveis. Nós nos referimos a valores desse tipo como \"valores primitivos\"."
   ]
  },
  {
   "cell_type": "markdown",
   "metadata": {},
   "source": [
    "### Tipo \"Boolean\"\n",
    "Boolean representa uma entidade lógica e pode ter dois valores: verdadeiro(true) ou falso(false)."
   ]
  },
  {
   "cell_type": "markdown",
   "metadata": {},
   "source": [
    "### Tipo \"Null\"\n",
    "O tipo Null tem exatamente um valor: null (nulo)."
   ]
  },
  {
   "cell_type": "markdown",
   "metadata": {},
   "source": [
    "## Tipo \"Undefined\"\n",
    "Uma variável que não foi atribuída a um valor específico, assume o valor undefined (indefinido)."
   ]
  },
  {
   "cell_type": "markdown",
   "metadata": {},
   "source": [
    "### Tipo \"Number\"\n",
    "De acordo com os padrões ECMAScript, existe somente um tipo numérico. O número entre -(253 -1) e 253 -1).\n",
    "Não existe um tipo específico para inteiros. Além de poderem representar números de ponto-flutuante, o tipo number possui três valores simbólicos:\n",
    "- +Infinity,\n",
    "- -Infinity, e\n",
    "- NaN (não numérico)."
   ]
  },
  {
   "cell_type": "markdown",
   "metadata": {},
   "source": [
    "Para verificar o maior ou o menor valor disponível dentro de +/-Infinity, você pode usar as constantes Number.MAX_VALUE ou Number.MIN_VALUE, e a partir do ECMAScript 6, você também consegue verificar se um número está dentro da região de um ponto flutuante do tipo double-precision, usando Number.isSafeInteger(), como também Number.MAX_SAFE_INTEGER, e Number.MIN_SAFE_INTEGER. Fora dessa região, números inteiros em JavaScript não são mais precisos e serão uma aproximação de um número de ponto flutuante do tipo double-precision."
   ]
  },
  {
   "cell_type": "markdown",
   "metadata": {},
   "source": [
    "O tipo number possui apenas um inteiro que tem duas representações: 0 é representado como -0 ou +0. (\"0\" é um pseudônimo para +0). Na prática, isso não gera grandes impactos. Por exemplo +0 === -0  resulta em true. Entretanto, você pode notar a diferença quando realiza uma divisão por 0:"
   ]
  },
  {
   "cell_type": "code",
   "execution_count": 4,
   "metadata": {},
   "outputs": [
    {
     "name": "stdout",
     "output_type": "stream",
     "text": [
      "Infinity\n",
      "-Infinity\n"
     ]
    },
    {
     "data": {
      "text/plain": [
       "undefined"
      ]
     },
     "execution_count": 4,
     "metadata": {},
     "output_type": "execute_result"
    }
   ],
   "source": [
    "print(42 / +0);\n",
    "print(42 / -0);"
   ]
  },
  {
   "cell_type": "markdown",
   "metadata": {},
   "source": [
    "### Tipo \"String\"\n",
    "O tipo String em JavaScript é usado para representar dados textuais. Isto é um conjunto de \"elementos\" de valores de 16-bits unsigned integer. Cada elemento na string ocupa uma posição na string. O primeiro elemento está no índice 0, o próximo no índice 1, e assim por diante. O comprimento de uma string é o número de elementos nela.\n",
    "\n",
    "Diferente de linguagens como C, strings em JavaScript são imutáveis. Isto significa que: uma vez criada a string, não é possível modificá-la. Entretanto, ainda é possível criar outra string baseada em um operador na string original.\n",
    "\n",
    "É aconselhável usar strings para dados textuais. Quando representar dados complexos, analise as strings e utilize abstrações apropriadas."
   ]
  },
  {
   "cell_type": "markdown",
   "metadata": {},
   "source": [
    "### Symbol type\n",
    "Symbols são novos no JavaScript ECMAScript edição 6. Um Symbol é um valor primitivo único e imutável e pode ser usado como chave de uma propriedade de Object; em algumas linguagens de programação, Symbols são chamados de atoms (átomos). Você também pode compará-los à enumerações nomeadas (enum) em C."
   ]
  },
  {
   "cell_type": "markdown",
   "metadata": {},
   "source": [
    "### Objetos\n",
    "Na ciência da computação, um objeto é um valor na memória que pode ser possivelmente referenciado por um identifier. No JavaScript, obejtos podem ser vistos como uma coleção de propriedades."
   ]
  },
  {
   "cell_type": "markdown",
   "metadata": {},
   "source": [
    "#### Identificador (Identifier)\n",
    "Uma sequência de caracteres no código, que identifica uma variável, função, ou propriedade.\n",
    "\n",
    "Em JavaScript, identificadores podem conter somente caracteres alfanuméricos (ou \"$\" ou \"_\"), e não podem iniciar com um dígito. Um identificador difere de uma string no sentido de que uma string é informação, enquanto um identificador é parte do código. Em JavaScript, não existe uma forma de converter identificadores para strings, mas as vezes é possível converter strings em identificadores."
   ]
  },
  {
   "cell_type": "markdown",
   "metadata": {},
   "source": [
    "## Datas\n",
    "Quando reprensentando datas, a melhor escolha é utilizar o Date utility já construído internamente no JavaScript."
   ]
  },
  {
   "cell_type": "markdown",
   "metadata": {},
   "source": [
    "Cria uma instância JavaScript de Date que representa um único momento no tempo. Objetos Date são baseados no valor de tempo que é o número de milisegundos desde 1º de Janeiro de 1970 (UTC)."
   ]
  },
  {
   "cell_type": "code",
   "execution_count": null,
   "metadata": {},
   "outputs": [
    {
     "name": "stdout",
     "output_type": "stream",
     "text": [
      "2021-07-17T14:58:52.987Z\n",
      "1985-10-05T12:30:00.000Z\n"
     ]
    },
    {
     "data": {
      "text/plain": [
       "undefined"
      ]
     },
     "execution_count": 22,
     "metadata": {},
     "output_type": "execute_result"
    }
   ],
   "source": [
    "var date = new Date();\n",
    "print(date);\n",
    "\n",
    "var date2 = new Date(1985, 9, 5, 9, 30, 0, 0);\n",
    "print(date2);"
   ]
  },
  {
   "cell_type": "markdown",
   "metadata": {},
   "source": [
    "## Array\n",
    "Arrays são objetos semelhantes a listas que vêm com uma série de métodos embutidos para realizar operações de travessia e mutação. Nem o tamanho de um array JavaScript nem os tipos de elementos são fixos"
   ]
  },
  {
   "cell_type": "markdown",
   "metadata": {},
   "source": [
    "Criando um Array"
   ]
  },
  {
   "cell_type": "code",
   "execution_count": null,
   "metadata": {},
   "outputs": [
    {
     "name": "stdout",
     "output_type": "stream",
     "text": [
      "2\n"
     ]
    },
    {
     "data": {
      "text/plain": [
       "undefined"
      ]
     },
     "execution_count": 28,
     "metadata": {},
     "output_type": "execute_result"
    }
   ],
   "source": [
    "var frutas = ['Maçã', 'Banana'];\n",
    "print(frutas.length);     // 2"
   ]
  },
  {
   "cell_type": "markdown",
   "metadata": {},
   "source": [
    "Acessar um item (index) do Array"
   ]
  },
  {
   "cell_type": "code",
   "execution_count": 30,
   "metadata": {},
   "outputs": [
    {
     "name": "stdout",
     "output_type": "stream",
     "text": [
      "Maçã\n",
      "Banana\n"
     ]
    },
    {
     "data": {
      "text/plain": [
       "undefined"
      ]
     },
     "execution_count": 30,
     "metadata": {},
     "output_type": "execute_result"
    }
   ],
   "source": [
    "var primeiro = frutas[0];   // Maçã\n",
    "print(primeiro);\n",
    "var ultimo = frutas[frutas.length - 1];     // Banana\n",
    "print(ultimo);"
   ]
  },
  {
   "cell_type": "markdown",
   "metadata": {},
   "source": [
    "Iterar um Array"
   ]
  },
  {
   "cell_type": "code",
   "execution_count": 32,
   "metadata": {},
   "outputs": [
    {
     "name": "stdout",
     "output_type": "stream",
     "text": [
      "Maçã 0\n",
      "Banana 1\n"
     ]
    },
    {
     "data": {
      "text/plain": [
       "undefined"
      ]
     },
     "execution_count": 32,
     "metadata": {},
     "output_type": "execute_result"
    }
   ],
   "source": [
    "frutas.forEach(function (item, indice) {\n",
    "    print(item, indice);\n",
    "  });\n",
    "// Maçã 0\n",
    "// Banana 1"
   ]
  },
  {
   "cell_type": "markdown",
   "metadata": {},
   "source": [
    "## Coleções chaveadas: Maps, Sets, WeakMaps, WeakSets\n",
    "Estas estruturas de dados pegam referências de objetos como chaves e foram introduzidas no ECMAScript Edition 6. Set e WeakSet representa um conjunto de objetos, enquanto Map e WeakMap associa um valor a um objeto. A diferença entre Maps e WeakMaps é que no primeiro, as chaves dos objetos podem ser enumeradas. Isso permite otimização de garbage collection no segundo."
   ]
  },
  {
   "cell_type": "markdown",
   "metadata": {},
   "source": [
    "### SET\n",
    "Objetos Set são coleções de valores nas quais é possível iterar os elementos em ordem de inserção. Um valor no Set pode ocorrer apenas uma vez; ele é único na coleção do Set."
   ]
  },
  {
   "cell_type": "markdown",
   "metadata": {},
   "source": [
    "### WeakSet\n",
    "Objetos WeakSet são coleções de objetos. Um objeto no WeakSet pode ocorrer uma vez; é único na coleção do WeakSet.\n",
    "\n",
    "As principais diferenças para o objeto Set são:\n",
    "- Em contraste ao Sets, WeakSets são coleções apenas de objetos e não de valores arbitrários de qualquer tipo.\n",
    "- O WeakSet é fraco. Referências aos objetos nas coleções são mantidas \"fracamente\". Se não há outra referência para um objeto mantido na WeakSet, eles pode ser coletados pelo gerenciamento de memória (garbage collection)."
   ]
  },
  {
   "cell_type": "markdown",
   "metadata": {},
   "source": [
    "## JSON - JavaScript Object Notation\n",
    "JSON (Notação de Objetos JavaScript) e um formato de dados permutável e capaz de representar números, booleanos, textos, vazios, e listas (sequência ordenada de valores) e objetos (mapeamento de valores de texto) composto por estes valores (ou por outras listas e objetos). Ele não representa nativamente tipos complexos de dados como funções, expressões regulares, datas, e muito mais."
   ]
  }
 ],
 "metadata": {
  "kernelspec": {
   "display_name": "JavaScript (Node.js)",
   "language": "javascript",
   "name": "javascript"
  },
  "language_info": {
   "codemirror_mode": {
    "name": "ipython",
    "version": 3
   },
   "file_extension": ".py",
   "mimetype": "text/x-python",
   "name": "javascript",
   "nbconvert_exporter": "python",
   "pygments_lexer": "ipython3",
   "version": "3.10.6"
  },
  "orig_nbformat": 4,
  "vscode": {
   "interpreter": {
    "hash": "916dbcbb3f70747c44a77c7bcd40155683ae19c65e1c03b4aa3499c5328201f1"
   }
  }
 },
 "nbformat": 4,
 "nbformat_minor": 2
}
